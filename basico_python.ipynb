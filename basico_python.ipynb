{
  "nbformat": 4,
  "nbformat_minor": 0,
  "metadata": {
    "colab": {
      "provenance": [],
      "authorship_tag": "ABX9TyO9g/9f0Un8tad0hLnk9Mpd",
      "include_colab_link": true
    },
    "kernelspec": {
      "name": "python3",
      "display_name": "Python 3"
    },
    "language_info": {
      "name": "python"
    }
  },
  "cells": [
    {
      "cell_type": "markdown",
      "metadata": {
        "id": "view-in-github",
        "colab_type": "text"
      },
      "source": [
        "<a href=\"https://colab.research.google.com/github/ESBA601/basico_python/blob/main/basico_python.ipynb\" target=\"_parent\"><img src=\"https://colab.research.google.com/assets/colab-badge.svg\" alt=\"Open In Colab\"/></a>"
      ]
    },
    {
      "cell_type": "code",
      "execution_count": 6,
      "metadata": {
        "colab": {
          "base_uri": "https://localhost:8080/"
        },
        "id": "lxvG78Wy1Fox",
        "outputId": "fb9bc050-b76a-4ba9-bd56-5bafb0056436"
      },
      "outputs": [
        {
          "output_type": "stream",
          "name": "stdout",
          "text": [
            "0     05\n",
            "1     08\n",
            "2     15\n",
            "3     15\n",
            "4     18\n",
            "5     18\n",
            "6     18\n",
            "7     18\n",
            "8     22\n",
            "9     31\n",
            "10    35\n",
            "11    36\n",
            "12    37\n",
            "13    38\n",
            "14    02\n",
            "15    02\n",
            "16    02\n",
            "17    02\n",
            "18    02\n",
            "19    02\n",
            "20    02\n",
            "21    02\n",
            "22    02\n",
            "23    02\n",
            "24    04\n",
            "25    22\n",
            "26    33\n",
            "27    11\n",
            "28    02\n",
            "29    02\n",
            "30    05\n",
            "31    03\n",
            "32    03\n",
            "33    33\n",
            "34    04\n",
            "35    37\n",
            "36    35\n",
            "37    36\n",
            "38    37\n",
            "39    38\n",
            "Name: CUENTA_CONTABLE, dtype: string\n"
          ]
        }
      ],
      "source": [
        "# extraer informacion de una variable\n",
        "\n",
        "import pandas as pd\n",
        "\n",
        "cuenta = pd.read_excel(\"CUENTA.xlsx\")\n",
        "\n",
        "CuentaNueva = cuenta['CUENTA_CONTABLE'].astype(\"string\").str[3:5]\n",
        "\n",
        "print(CuentaNueva)\n"
      ]
    },
    {
      "cell_type": "code",
      "source": [
        "# eliminar duplicados de una variable\n",
        "\n",
        "SinDuplicados = CuentaNueva.drop_duplicates()\n",
        "\n",
        "print(SinDuplicados)"
      ],
      "metadata": {
        "colab": {
          "base_uri": "https://localhost:8080/"
        },
        "id": "TEEXsCy5274i",
        "outputId": "28b8c82b-3e16-4d68-f0ae-3d8d193a5f68"
      },
      "execution_count": 8,
      "outputs": [
        {
          "output_type": "stream",
          "name": "stdout",
          "text": [
            "0     05\n",
            "1     08\n",
            "2     15\n",
            "4     18\n",
            "8     22\n",
            "9     31\n",
            "10    35\n",
            "11    36\n",
            "12    37\n",
            "13    38\n",
            "14    02\n",
            "24    04\n",
            "26    33\n",
            "27    11\n",
            "31    03\n",
            "Name: CUENTA_CONTABLE, dtype: string\n"
          ]
        }
      ]
    }
  ]
}