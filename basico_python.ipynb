{
  "nbformat": 4,
  "nbformat_minor": 0,
  "metadata": {
    "colab": {
      "provenance": [],
      "authorship_tag": "ABX9TyOBs2ejT56kOL+JSV4I+NY/",
      "include_colab_link": true
    },
    "kernelspec": {
      "name": "python3",
      "display_name": "Python 3"
    },
    "language_info": {
      "name": "python"
    }
  },
  "cells": [
    {
      "cell_type": "markdown",
      "metadata": {
        "id": "view-in-github",
        "colab_type": "text"
      },
      "source": [
        "<a href=\"https://colab.research.google.com/github/ESBA601/basico_python/blob/main/basico_python.ipynb\" target=\"_parent\"><img src=\"https://colab.research.google.com/assets/colab-badge.svg\" alt=\"Open In Colab\"/></a>"
      ]
    },
    {
      "cell_type": "code",
      "execution_count": 9,
      "metadata": {
        "colab": {
          "base_uri": "https://localhost:8080/"
        },
        "id": "lxvG78Wy1Fox",
        "outputId": "61a86b78-4cf0-4fab-fc88-54e3b0f48dad"
      },
      "outputs": [
        {
          "output_type": "stream",
          "name": "stdout",
          "text": [
            "0     05\n",
            "1     08\n",
            "2     15\n",
            "3     15\n",
            "4     18\n",
            "5     18\n",
            "6     18\n",
            "7     18\n",
            "8     22\n",
            "9     31\n",
            "10    35\n",
            "11    36\n",
            "12    37\n",
            "13    38\n",
            "14    02\n",
            "15    02\n",
            "16    02\n",
            "17    02\n",
            "18    02\n",
            "19    02\n",
            "20    02\n",
            "21    02\n",
            "22    02\n",
            "23    02\n",
            "24    04\n",
            "25    22\n",
            "26    33\n",
            "27    11\n",
            "28    02\n",
            "29    02\n",
            "30    05\n",
            "31    03\n",
            "32    03\n",
            "33    33\n",
            "34    04\n",
            "35    37\n",
            "36    35\n",
            "37    36\n",
            "38    37\n",
            "39    38\n",
            "Name: CUENTA_CONTABLE, dtype: string\n"
          ]
        }
      ],
      "source": [
        "# extraer informacion de una variable\n",
        "\n",
        "import pandas as pd\n",
        "\n",
        "cuenta = pd.read_excel(\"CUENTA.xlsx\")\n",
        "\n",
        "CuentaNueva = cuenta['CUENTA_CONTABLE'].astype(\"string\").str[3:5]\n",
        "\n",
        "print(CuentaNueva)\n"
      ]
    },
    {
      "cell_type": "code",
      "source": [
        "# filtrar columnas\n",
        "\n",
        "import pandas as pd\n",
        "\n",
        "tecno = pd.read_excel(\"tecno.xlsx\")\n",
        "\n",
        "df_begin = tecno['Brand'].count()\n",
        "\n",
        "print(df_begin)\n",
        "\n",
        "df_filtered = tecno[tecno['Brand']!='Sony']\n",
        "\n",
        "df_filtered = df_filtered['Brand'].count()\n",
        "\n",
        "print(df_filtered)\n"
      ],
      "metadata": {
        "colab": {
          "base_uri": "https://localhost:8080/"
        },
        "id": "a8WsCSwSqX9D",
        "outputId": "a62a2fda-54fc-47bb-bcb8-a226ff441ad5"
      },
      "execution_count": 8,
      "outputs": [
        {
          "output_type": "stream",
          "name": "stdout",
          "text": [
            "30\n",
            "27\n"
          ]
        }
      ]
    },
    {
      "cell_type": "code",
      "source": [
        "# funciones que me ayudaro a obtener informacion de un df\n",
        "\n",
        "#CuentaNueva.head() ## busca los nombres de los titulos\n",
        "\n",
        "#print(CuentaNueva.name) ## imprime los nombres de los titulos\n",
        "\n",
        "#print(CuentaNueva.values)\n",
        "\n",
        "#CuentaNueva.columns\n",
        "\n",
        "#CuentaNueva.tail()\n",
        "\n",
        "#CuentaNueva.shape\n",
        "\n"
      ],
      "metadata": {
        "colab": {
          "base_uri": "https://localhost:8080/"
        },
        "id": "01nhHEzMu2bN",
        "outputId": "4ff9bf8f-9065-43ec-a8ea-0cbdf449cb34"
      },
      "execution_count": 33,
      "outputs": [
        {
          "output_type": "stream",
          "name": "stdout",
          "text": [
            "Index(['Brand', 'Device', 'Model', 'Country_Origin', 'Date_Release',\n",
            "       'Price_USD'],\n",
            "      dtype='object')\n"
          ]
        }
      ]
    },
    {
      "cell_type": "code",
      "source": [
        "# para envio de infromacion a excel\n",
        "\n",
        "#df.to_excel(\"df.xlsx\")\n",
        "\n",
        "#from google.colab import files\n",
        "\n",
        "#files.download(\"df.xlsx\")"
      ],
      "metadata": {
        "id": "J74obQ_e321T"
      },
      "execution_count": null,
      "outputs": []
    },
    {
      "cell_type": "code",
      "source": [
        "import os\n",
        "\n",
        "#os.getcwd() ## donde esta la direccion\n",
        "\n",
        "#os.listdir() ## archivos que se encuentra en la carpeta\n",
        "\n",
        "#os.listdir('/content') ## archivos que se encuentra en la carpeta colocando la ruta"
      ],
      "metadata": {
        "colab": {
          "base_uri": "https://localhost:8080/"
        },
        "id": "T4BP3Vns41A3",
        "outputId": "6de2458e-6fe5-4fe4-9f0b-8e19e77fdc52"
      },
      "execution_count": 29,
      "outputs": [
        {
          "output_type": "execute_result",
          "data": {
            "text/plain": [
              "['.config',\n",
              " 'tecno1.xlsx',\n",
              " 'CUENTA.xlsx',\n",
              " 'tecno.xlsx',\n",
              " 'tecno2.xlsx',\n",
              " 'sample_data']"
            ]
          },
          "metadata": {},
          "execution_count": 29
        }
      ]
    },
    {
      "cell_type": "code",
      "source": [
        "# esto es para concatenar las columnas\n",
        "\n",
        "tecno1 = pd.read_excel(\"tecno1.xlsx\")\n",
        "\n",
        "tecno2 = pd.read_excel(\"tecno2.xlsx\")\n",
        "\n",
        "tecnofinal = pd.concat([tecno2,tecno1], sort=True)\n",
        "\n",
        "print(tecnofinal)\n",
        "\n",
        "#tecnofinal = pd.concat([tecno2,tecno1], axis=0, join='outer', ignore_index=False, keys=None, sort=False)\n",
        "\n",
        "#print(tecnofinal)"
      ],
      "metadata": {
        "colab": {
          "base_uri": "https://localhost:8080/"
        },
        "id": "7WGIdGqc0w3I",
        "outputId": "5b52e991-a1a0-4655-c177-3642418856b8"
      },
      "execution_count": 18,
      "outputs": [
        {
          "output_type": "stream",
          "name": "stdout",
          "text": [
            "        Brand Country_Origin Date_Release       Device       Model  Price_USD\n",
            "0       Apple  United States   2021-09-24       iPhone  13 Pro Max       1099\n",
            "1     Samsung    South Korea   2021-01-29       Galaxy   S21 Ultra       1199\n",
            "2      Google  United States   2021-10-19        Pixel       6 Pro        899\n",
            "3        Sony          Japan   2020-11-12  PlayStation           5        499\n",
            "4   Microsoft  United States   2021-04-15      Surface    Laptop 4        999\n",
            "..        ...            ...          ...          ...         ...        ...\n",
            "25       Dell          China   2020-12-25   UltraSharp      U2720Q        499\n",
            "26         HP  United States   2021-06-28        Elite   Dragonfly       1799\n",
            "27     Lenovo          China   2021-04-05       Legion          7i       1499\n",
            "28       Asus         Taiwan   2021-03-20          TUF  Gaming A15       1199\n",
            "29       Acer         Taiwan   2021-01-30       Aspire           5        599\n",
            "\n",
            "[120 rows x 6 columns]\n"
          ]
        }
      ]
    },
    {
      "cell_type": "code",
      "source": [
        "# eliminar duplicados de una variable\n",
        "\n",
        "SinDuplicados = CuentaNueva.drop_duplicates()\n",
        "\n",
        "print(SinDuplicados)"
      ],
      "metadata": {
        "colab": {
          "base_uri": "https://localhost:8080/"
        },
        "id": "TEEXsCy5274i",
        "outputId": "28b8c82b-3e16-4d68-f0ae-3d8d193a5f68"
      },
      "execution_count": null,
      "outputs": [
        {
          "output_type": "stream",
          "name": "stdout",
          "text": [
            "0     05\n",
            "1     08\n",
            "2     15\n",
            "4     18\n",
            "8     22\n",
            "9     31\n",
            "10    35\n",
            "11    36\n",
            "12    37\n",
            "13    38\n",
            "14    02\n",
            "24    04\n",
            "26    33\n",
            "27    11\n",
            "31    03\n",
            "Name: CUENTA_CONTABLE, dtype: string\n"
          ]
        }
      ]
    },
    {
      "cell_type": "code",
      "source": [],
      "metadata": {
        "id": "fhV_D8pmuaz5"
      },
      "execution_count": null,
      "outputs": []
    }
  ]
}