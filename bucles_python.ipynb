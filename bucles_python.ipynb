{
  "nbformat": 4,
  "nbformat_minor": 0,
  "metadata": {
    "colab": {
      "provenance": [],
      "authorship_tag": "ABX9TyPgRSXXg2u/o7p84M4JllZZ",
      "include_colab_link": true
    },
    "kernelspec": {
      "name": "python3",
      "display_name": "Python 3"
    },
    "language_info": {
      "name": "python"
    }
  },
  "cells": [
    {
      "cell_type": "markdown",
      "metadata": {
        "id": "view-in-github",
        "colab_type": "text"
      },
      "source": [
        "<a href=\"https://colab.research.google.com/github/ESBA601/basico_python/blob/main/bucles_python.ipynb\" target=\"_parent\"><img src=\"https://colab.research.google.com/assets/colab-badge.svg\" alt=\"Open In Colab\"/></a>"
      ]
    },
    {
      "cell_type": "code",
      "execution_count": 1,
      "metadata": {
        "colab": {
          "base_uri": "https://localhost:8080/"
        },
        "id": "6FqkotXoj1wk",
        "outputId": "735070bc-b5e1-4a61-db9c-d6e7344d7e95"
      },
      "outputs": [
        {
          "output_type": "stream",
          "name": "stdout",
          "text": [
            "  Nombre  Edad\n",
            "0   Laly    42\n",
            "1   Tika    40\n",
            "2   Popi    37\n",
            "   Nombre  Edad\n",
            "0   Maria    42\n",
            "1   Laura    40\n",
            "2  Camila    37\n",
            "    Nombre  Edad\n",
            "0    Anita    42\n",
            "1   Junito    40\n",
            "2  Pedrito    37\n",
            "  Nombre  Edad\n",
            "0   Jose    42\n",
            "1  Ramon    40\n",
            "2    Leo    37\n"
          ]
        }
      ],
      "source": [
        "# creacion de data frame\n",
        "\n",
        "import pandas as pd\n",
        "\n",
        "df1_3 = pd.DataFrame()\n",
        "df1_0 = pd.DataFrame()\n",
        "df1_1 = pd.DataFrame()\n",
        "df1_2 = pd.DataFrame()\n",
        "\n",
        "nombres3 = ['Laly', 'Tika', 'Popi']\n",
        "nombres0 = ['Maria', 'Laura', 'Camila']\n",
        "nombres2 = ['Anita', 'Junito', 'Pedrito']\n",
        "nombres1 = ['Jose', 'Ramon', 'Leo']\n",
        "edades = [42, 40, 37]\n",
        "\n",
        "df1_0['Nombre'] = nombres0\n",
        "df1_1['Nombre'] = nombres1\n",
        "df1_2['Nombre'] = nombres2\n",
        "df1_3['Nombre'] = nombres3\n",
        "\n",
        "df1_3['Edad'] = edades\n",
        "df1_2['Edad'] = edades\n",
        "df1_1['Edad'] = edades\n",
        "df1_0['Edad'] = edades\n",
        "\n",
        "\n",
        "print(df1_3)\n",
        "print(df1_0)\n",
        "print(df1_2)\n",
        "print(df1_1)"
      ]
    },
    {
      "cell_type": "code",
      "source": [
        "# union de las diferentes df\n",
        "\n",
        "f = pd.DataFrame()\n",
        "\n",
        "for i in range(4):\n",
        "  tab = globals()[f'df1_{i}']\n",
        "  f = pd.concat([f, tab])\n",
        "\n",
        "print(f)"
      ],
      "metadata": {
        "colab": {
          "base_uri": "https://localhost:8080/"
        },
        "id": "rqu3SnhLkSpz",
        "outputId": "bf6e50c4-a4bd-4abb-f720-5ddd9331bbe6"
      },
      "execution_count": 2,
      "outputs": [
        {
          "output_type": "stream",
          "name": "stdout",
          "text": [
            "    Nombre  Edad\n",
            "0    Maria    42\n",
            "1    Laura    40\n",
            "2   Camila    37\n",
            "0     Jose    42\n",
            "1    Ramon    40\n",
            "2      Leo    37\n",
            "0    Anita    42\n",
            "1   Junito    40\n",
            "2  Pedrito    37\n",
            "0     Laly    42\n",
            "1     Tika    40\n",
            "2     Popi    37\n"
          ]
        }
      ]
    }
  ]
}